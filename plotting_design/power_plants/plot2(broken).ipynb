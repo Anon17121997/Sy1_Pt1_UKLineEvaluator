{
 "cells": [
  {
   "cell_type": "code",
   "execution_count": null,
   "metadata": {},
   "outputs": [],
   "source": [
    "import pandas as pd\n",
    "import os\n",
    "from mapboxgl.utils import *\n",
    "from mapboxgl.viz import *\n",
    "\n",
    "# Load data from sample csv\n",
    "data_url = '/Users/thomasjhojlunddodd/documents/lpthw/sy1/power_plants/conventional_power_plants_EU.csv'\n",
    "df = pd.read_csv(data_url)\n",
    "\n",
    "# Must be a public token, starting with `pk`\n",
    "token = os.getenv('pk.eyJ1IjoidGhvbWFzZG9kZDk3IiwiYSI6ImNrM204ZXRsNTBzNnozYm5tYW1hNzQ0NTUifQ.cXaiYsFHHj8Oz42-S4nJdw')\n",
    "\n",
    "# Create a geojson Feature Collection export from a Pandas dataframe\n",
    "points = df_to_geojson(df, \n",
    "                       properties=['name', 'capacity', 'energy_source'],\n",
    "                       lat='lat', lon='lon', precision=3)\n",
    "\n",
    "# Generate data breaks and color stops from colorBrewer\n",
    "color_breaks = [0,10,100,1000,10000]\n",
    "color_stops = create_color_stops(color_breaks, colors='YlGnBu')\n",
    "\n",
    "# Create the viz from the dataframe\n",
    "viz = CircleViz(points,\n",
    "                access_token=token,\n",
    "                height='400px',\n",
    "                color_property='capacity',\n",
    "                color_stops=color_stops,\n",
    "                label_property='capacity',\n",
    "                stroke_color='black',\n",
    "                center=(-95, 40),\n",
    "                zoom=3,\n",
    "                below_layer='waterway-label')\n"
   ]
  },
  {
   "cell_type": "code",
   "execution_count": null,
   "metadata": {},
   "outputs": [],
   "source": []
  }
 ],
 "metadata": {
  "kernelspec": {
   "display_name": "Python 3",
   "language": "python",
   "name": "python3"
  },
  "language_info": {
   "codemirror_mode": {
    "name": "ipython",
    "version": 3
   },
   "file_extension": ".py",
   "mimetype": "text/x-python",
   "name": "python",
   "nbconvert_exporter": "python",
   "pygments_lexer": "ipython3",
   "version": "3.7.4"
  }
 },
 "nbformat": 4,
 "nbformat_minor": 2
}
