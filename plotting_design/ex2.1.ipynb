{
 "cells": [
  {
   "cell_type": "code",
   "execution_count": 1,
   "metadata": {},
   "outputs": [],
   "source": [
    "#https://pandapower.readthedocs.io/en/v1.4.1/networks/power_system_test_cases.html\n",
    "\n",
    "#A more updated page was found:\n",
    "#https://pandapower.readthedocs.io/en/v2.1.0/networks/power_system_test_cases.html\n",
    "\n",
    "#Found a test case that represents the french high voltage scenario supposedly:\n",
    "#Case 1888rte\n",
    "#\"This case accurately represents the size and complexity of French very high voltage and high voltage transmission network.\"\n",
    "\n",
    "import pandapower.networks as pn\n",
    "\n",
    "net = pn.case1888rte(ref_bus_idx=1246)"
   ]
  },
  {
   "cell_type": "code",
   "execution_count": null,
   "metadata": {},
   "outputs": [],
   "source": []
  }
 ],
 "metadata": {
  "kernelspec": {
   "display_name": "Python 3",
   "language": "python",
   "name": "python3"
  },
  "language_info": {
   "codemirror_mode": {
    "name": "ipython",
    "version": 3
   },
   "file_extension": ".py",
   "mimetype": "text/x-python",
   "name": "python",
   "nbconvert_exporter": "python",
   "pygments_lexer": "ipython3",
   "version": "3.7.4"
  }
 },
 "nbformat": 4,
 "nbformat_minor": 2
}
